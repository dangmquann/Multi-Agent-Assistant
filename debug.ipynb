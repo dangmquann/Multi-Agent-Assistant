{
 "cells": [
  {
   "cell_type": "code",
   "execution_count": 9,
   "id": "00ddb78b",
   "metadata": {},
   "outputs": [
    {
     "name": "stdout",
     "output_type": "stream",
     "text": [
      "Available audio devices:\n"
     ]
    },
    {
     "data": {
      "text/plain": [
       "True"
      ]
     },
     "execution_count": 9,
     "metadata": {},
     "output_type": "execute_result"
    }
   ],
   "source": [
    "# Kiểm tra môi trường\n",
    "def check_audio_devices():\n",
    "    try:\n",
    "        import sounddevice as sd\n",
    "        devices = sd.query_devices()\n",
    "        print(\"Available audio devices:\")\n",
    "        return True\n",
    "    except Exception as e:\n",
    "        print(f\"Error checking audio devices: {e}\")\n",
    "        print(\"Please ensure you have sounddevice installed and your audio devices are configured correctly.\")\n",
    "        return False\n",
    "    \n",
    "check_audio_devices()"
   ]
  },
  {
   "cell_type": "code",
   "execution_count": 1,
   "id": "f68439a0",
   "metadata": {},
   "outputs": [],
   "source": [
    "import sounddevice as sd\n"
   ]
  },
  {
   "cell_type": "code",
   "execution_count": 5,
   "id": "26d0573d",
   "metadata": {},
   "outputs": [
    {
     "name": "stdout",
     "output_type": "stream",
     "text": [
      "0: HDA Intel PCH: ALC897 Analog (hw:0,0), 2 in, 2 out\n",
      "1: HDA Intel PCH: ALC897 Digital (hw:0,1), 0 in, 2 out\n",
      "2: HDA Intel PCH: ALC897 Alt Analog (hw:0,2), 2 in, 0 out\n",
      "3: HDA NVidia: HDMI 0 (hw:1,3), 0 in, 2 out\n",
      "4: HDA NVidia: HDMI 1 (hw:1,7), 0 in, 2 out\n",
      "5: HDA NVidia: HDMI 2 (hw:1,8), 0 in, 8 out\n",
      "6: HDA NVidia: HDMI 3 (hw:1,9), 0 in, 8 out\n",
      "7: ReSpeaker 4 Mic Array (UAC1.0): USB Audio (hw:2,0), 1 in, 2 out\n",
      "8: sysdefault, 128 in, 128 out\n",
      "9: front, 0 in, 2 out\n",
      "10: surround40, 0 in, 2 out\n",
      "11: surround51, 0 in, 2 out\n",
      "12: surround71, 0 in, 2 out\n",
      "13: iec958, 0 in, 2 out\n",
      "14: spdif, 0 in, 2 out\n",
      "15: dmix, 0 in, 2 out\n"
     ]
    }
   ],
   "source": [
    "import sounddevice as sd\n",
    "\n",
    "for i, device in enumerate(sd.query_devices()):\n",
    "    print(f\"{i}: {device['name']}, {device['max_input_channels']} in, {device['max_output_channels']} out\")\n"
   ]
  },
  {
   "cell_type": "code",
   "execution_count": 7,
   "id": "6cbb86a1",
   "metadata": {},
   "outputs": [
    {
     "name": "stdout",
     "output_type": "stream",
     "text": [
      "   0 HDA Intel PCH: ALC897 Analog (hw:0,0), ALSA (2 in, 2 out)\n",
      "   1 HDA Intel PCH: ALC897 Digital (hw:0,1), ALSA (0 in, 2 out)\n",
      "   2 HDA Intel PCH: ALC897 Alt Analog (hw:0,2), ALSA (2 in, 0 out)\n",
      "   3 HDA NVidia: HDMI 0 (hw:1,3), ALSA (0 in, 2 out)\n",
      "   4 HDA NVidia: HDMI 1 (hw:1,7), ALSA (0 in, 2 out)\n",
      "   5 HDA NVidia: HDMI 2 (hw:1,8), ALSA (0 in, 8 out)\n",
      "   6 HDA NVidia: HDMI 3 (hw:1,9), ALSA (0 in, 8 out)\n",
      "*  7 ReSpeaker 4 Mic Array (UAC1.0): USB Audio (hw:2,0), ALSA (1 in, 2 out)\n",
      "   8 sysdefault, ALSA (128 in, 128 out)\n",
      "   9 front, ALSA (0 in, 2 out)\n",
      "  10 surround40, ALSA (0 in, 2 out)\n",
      "  11 surround51, ALSA (0 in, 2 out)\n",
      "  12 surround71, ALSA (0 in, 2 out)\n",
      "  13 iec958, ALSA (0 in, 2 out)\n",
      "  14 spdif, ALSA (0 in, 2 out)\n",
      "  15 dmix, ALSA (0 in, 2 out)\n",
      "========\n",
      "Default input device: 7\n",
      "Device info: {'name': 'ReSpeaker 4 Mic Array (UAC1.0): USB Audio (hw:2,0)', 'index': 7, 'hostapi': 0, 'max_input_channels': 1, 'max_output_channels': 2, 'default_low_input_latency': 0.024, 'default_low_output_latency': 0.024, 'default_high_input_latency': 0.096, 'default_high_output_latency': 0.096, 'default_samplerate': 16000.0}\n",
      "Input device name: ReSpeaker 4 Mic Array (UAC1.0): USB Audio (hw:2,0)\n",
      "========\n",
      "Default output device:  7\n",
      "Output device info: {'name': 'ReSpeaker 4 Mic Array (UAC1.0): USB Audio (hw:2,0)', 'index': 7, 'hostapi': 0, 'max_input_channels': 1, 'max_output_channels': 2, 'default_low_input_latency': 0.024, 'default_low_output_latency': 0.024, 'default_high_input_latency': 0.096, 'default_high_output_latency': 0.096, 'default_samplerate': 16000.0}\n"
     ]
    }
   ],
   "source": [
    "import sounddevice as sd\n",
    "sd.default.device = 7  # Set to your desired input device index\n",
    "# sd.default.reset()  # Reset to default settings\n",
    "print(sd.query_devices())\n",
    "print(\"========\")\n",
    "\n",
    "input_device, output_device = sd.default.device\n",
    "print(f\"Default input device: {input_device}\")\n",
    "device_info = sd.query_devices(input_device)\n",
    "print(f\"Device info: {device_info}\")\n",
    "input_device_name = device_info.get(\"name\", \"Microphone\")\n",
    "print(f\"Input device name: {input_device_name}\")\n",
    "\n",
    "print(\"========\")\n",
    "print(\"Default output device: \", output_device)\n",
    "output_device_info = sd.query_devices(output_device)\n",
    "print(f\"Output device info: {output_device_info}\")"
   ]
  },
  {
   "cell_type": "code",
   "execution_count": 1,
   "id": "95b05f80",
   "metadata": {},
   "outputs": [
    {
     "name": "stdout",
     "output_type": "stream",
     "text": [
      "🎙 Ghi âm...\n"
     ]
    },
    {
     "ename": "",
     "evalue": "",
     "output_type": "error",
     "traceback": [
      "\u001b[1;31mThe Kernel crashed while executing code in the current cell or a previous cell. \n",
      "\u001b[1;31mPlease review the code in the cell(s) to identify a possible cause of the failure. \n",
      "\u001b[1;31mClick <a href='https://aka.ms/vscodeJupyterKernelCrash'>here</a> for more info. \n",
      "\u001b[1;31mView Jupyter <a href='command:jupyter.viewOutput'>log</a> for further details."
     ]
    }
   ],
   "source": [
    "\n",
    "import sounddevice as sd\n",
    "import numpy as np\n",
    "\n",
    "fs = 44100\n",
    "duration = 5  # giây\n",
    "\n",
    "# Chọn thiết bị:\n",
    "# Input = \"sysdefault\" (thường trỏ đến ReSpeaker qua PulseAudio)\n",
    "# Output = \"front\" (jack 3.5mm)\n",
    "sd.default.device = (\"sysdefault\", \"front\")\n",
    "sd.default.samplerate = fs\n",
    "sd.default.channels = 1  # Ghi âm mono\n",
    "\n",
    "# Ghi âm\n",
    "print(\"🎙 Ghi âm...\")\n",
    "recording = sd.rec(int(duration * fs))\n",
    "sd.wait()\n",
    "print(\"✅ Ghi xong.\")\n",
    "\n",
    "# Phát lại (mono → stereo nếu cần)\n",
    "if recording.ndim == 1 or recording.shape[1] == 1:\n",
    "    recording = np.column_stack([recording, recording])  # Chuyển sang stereo nếu cần\n",
    "\n",
    "# download soundfile\n",
    "import soundfile as sf\n",
    "sf.write(\"recording.wav\", recording, fs)\n",
    "\n",
    "print(\"🔊 Phát lại...\")\n",
    "sd.play(recording)\n",
    "sd.wait()\n",
    "print(\"✅ Phát xong.\")\n"
   ]
  },
  {
   "cell_type": "code",
   "execution_count": 4,
   "id": "d50d492a",
   "metadata": {},
   "outputs": [
    {
     "name": "stdout",
     "output_type": "stream",
     "text": [
      "Using input device: 6\n",
      "Selected input device: 6\n"
     ]
    }
   ],
   "source": [
    "input_device, _ = sd.default.device\n",
    "print(f\"Using input device: {input_device}\")\n",
    "# Try to find ReSpeaker if available\n",
    "for i, dev in enumerate(sd.query_devices()):\n",
    "    if \"ReSpeaker\" in dev.get(\"name\", \"\") and dev.get(\"max_input_channels\", 0) > 0:\n",
    "        input_device = i\n",
    "        break\n",
    "print(f\"Selected input device: {input_device}\")"
   ]
  },
  {
   "cell_type": "code",
   "execution_count": null,
   "id": "1567db85",
   "metadata": {},
   "outputs": [],
   "source": []
  },
  {
   "cell_type": "code",
   "execution_count": 50,
   "id": "b9cafee9",
   "metadata": {},
   "outputs": [
    {
     "data": {
      "text/plain": [
       "array([[9.4604492e-04],\n",
       "       [9.1552734e-04],\n",
       "       [9.1552734e-05],\n",
       "       ...,\n",
       "       [1.3427734e-03],\n",
       "       [7.0190430e-04],\n",
       "       [6.4086914e-04]], dtype=float32)"
      ]
     },
     "execution_count": 50,
     "metadata": {},
     "output_type": "execute_result"
    }
   ],
   "source": [
    "myrecording"
   ]
  },
  {
   "cell_type": "code",
   "execution_count": null,
   "id": "24e0d12a",
   "metadata": {},
   "outputs": [],
   "source": []
  }
 ],
 "metadata": {
  "kernelspec": {
   "display_name": "agent-be",
   "language": "python",
   "name": "python3"
  },
  "language_info": {
   "codemirror_mode": {
    "name": "ipython",
    "version": 3
   },
   "file_extension": ".py",
   "mimetype": "text/x-python",
   "name": "python",
   "nbconvert_exporter": "python",
   "pygments_lexer": "ipython3",
   "version": "3.10.18"
  }
 },
 "nbformat": 4,
 "nbformat_minor": 5
}
